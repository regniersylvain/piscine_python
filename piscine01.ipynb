{
 "cells": [
  {
   "cell_type": "code",
   "execution_count": 7,
   "id": "guilty-treasury",
   "metadata": {},
   "outputs": [],
   "source": [
    "# 1 : Ecrire un programme qui affiche bonjour. \n",
    "#     Bis : mettre ce programme dans une fonction bonjour qui prend en paramètres le nombre \n",
    "#     de fois que la fonctionne affichera bonjour et tester cette fonction\n",
    "\n",
    "nb_bjr = 0\n",
    "\n",
    "def bonjour(nb_bjr):\n",
    "    for i in range(nb_bjr):\n",
    "        print('bonjour')\n",
    "\n",
    "bonjour(nb_bjr)\n"
   ]
  },
  {
   "cell_type": "code",
   "execution_count": 1,
   "id": "manufactured-thinking",
   "metadata": {},
   "outputs": [
    {
     "name": "stdout",
     "output_type": "stream",
     "text": [
      "entrez le rayon de la base du cône : a\n",
      "veuillez entrer un nombre\n",
      "entrez le rayon de la base du cône : 4\n",
      "son volume est de  16.755160819145562\n"
     ]
    }
   ],
   "source": [
    "# 2 : Écrire dans une cellule un programme qui demande à l'utilisateur de rentrer un rayon, \n",
    "#     puis , qui calcule le volume d'un cône droit.(Rappel : Vcone = 1/3 * pi * r^2) \n",
    "#     Bis : mettre ce programme dans une fonction volume_cone et tester cette fonction\n",
    "\n",
    "import math\n",
    "\n",
    "def volume_cone():\n",
    "    while True :\n",
    "        try : \n",
    "            r = float(input(\"entrez le rayon de la base du cône : \"))\n",
    "            break\n",
    "        except ValueError:\n",
    "            print(\"veuillez entrer un nombre\")\n",
    "            continue\n",
    "\n",
    "    Vcone = 1 / 3 * math.pi * r * r\n",
    "    print(\"son volume est de \", Vcone)\n",
    "    \n",
    "volume_cone()\n"
   ]
  },
  {
   "cell_type": "code",
   "execution_count": 13,
   "id": "crucial-submission",
   "metadata": {},
   "outputs": [
    {
     "name": "stdout",
     "output_type": "stream",
     "text": [
      "entrez votre poid en kg : 90\n",
      "entrez votre taille en m : 1.85\n",
      "Votre IMC est de  26.296566837107374\n"
     ]
    }
   ],
   "source": [
    "# 3 : Écrire dans une cellule un programme qui demande à l'utilisateur son poids et sa taille \n",
    "#     et qui calcule son IMC (trouver la formule sur internet). \n",
    "#     Bis : mettre ce programme dans une fonction imc et tester cette fonction\n",
    "\n",
    "while True :\n",
    "    try : \n",
    "        poids = float(input(\"entrez votre poid en kg : \"))\n",
    "        break\n",
    "    except ValueError:\n",
    "        print(\"veuillez entrer un nombre\")\n",
    "        continue\n",
    "        \n",
    "while True :\n",
    "    try : \n",
    "        taille = float(input(\"entrez votre taille en m : \"))\n",
    "        break\n",
    "    except ValueError:\n",
    "        print(\"veuillez entrer un nombre\")\n",
    "        continue\n",
    "\n",
    "taille = taille * taille        \n",
    "imc = poids / taille\n",
    "print(\"Votre IMC est de \", imc)\n"
   ]
  },
  {
   "cell_type": "code",
   "execution_count": 4,
   "id": "chronic-jordan",
   "metadata": {},
   "outputs": [
    {
     "name": "stdout",
     "output_type": "stream",
     "text": [
      "Veuillez entrer une vitesse en miles/h : 10\n",
      "10.0 miles/h est égal à 16.09 km/h\n"
     ]
    }
   ],
   "source": [
    "# 4 : Écrire une fonction qui convertit en mètres par seconde \n",
    "#     et en km/h une vitesse fournie en paramètres par l'utilisateur en miles/heure \n",
    "#    (1 mile = 1609 mètres). Ce résultat sera retourné par la fonction.\n",
    "\n",
    "def convertisseur(miles_h):\n",
    "    return miles_h * 1.609\n",
    " \n",
    "\n",
    "while True :\n",
    "    try :\n",
    "        miles_h = float(input(\"Veuillez entrer une vitesse en miles/h : \"))\n",
    "        break\n",
    "    except ValueError :\n",
    "        print(\"veuillez entrer un nombre\")\n",
    "        continue\n",
    "\n",
    "km_h = convertisseur(miles_h)\n",
    "print(miles_h, \"miles/h est égal à\", km_h, \"km/h\")\n",
    "\n"
   ]
  },
  {
   "cell_type": "code",
   "execution_count": null,
   "id": "descending-france",
   "metadata": {},
   "outputs": [],
   "source": [
    "# 5 : Écrire dans une cellule un programme qui demande à l'utilisateur de rentrer un \n",
    "#     entier n positif et qui affiche PAIR s'il est divisible par 2, IMPAIR sinon (penser au modulo). \n",
    "#     Bis : mettre ce programme dans une fonction pair et tester cette fonction"
   ]
  }
 ],
 "metadata": {
  "kernelspec": {
   "display_name": "Python 3",
   "language": "python",
   "name": "python3"
  },
  "language_info": {
   "codemirror_mode": {
    "name": "ipython",
    "version": 3
   },
   "file_extension": ".py",
   "mimetype": "text/x-python",
   "name": "python",
   "nbconvert_exporter": "python",
   "pygments_lexer": "ipython3",
   "version": "3.9.2"
  }
 },
 "nbformat": 4,
 "nbformat_minor": 5
}
