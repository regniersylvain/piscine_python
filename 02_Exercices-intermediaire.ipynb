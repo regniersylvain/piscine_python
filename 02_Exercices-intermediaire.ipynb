{
 "cells": [
  {
   "cell_type": "code",
   "execution_count": 20,
   "id": "2a8f8f7c",
   "metadata": {},
   "outputs": [
    {
     "name": "stdout",
     "output_type": "stream",
     "text": [
      "0.0470400026866224\n",
      "0.45464871341284085\n",
      "0.8414709848078965\n",
      "division par 0 impossible\n",
      "0.8414709848078965\n",
      "0.45464871341284085\n",
      "0.0470400026866224\n"
     ]
    }
   ],
   "source": [
    "# 1 : Utilisez une exception pour calculer, dans une boucle évoluant de -3 à 3 compris, la valeur de sin(x)/x. \n",
    "#     L'exception permettra de gérer l'erreur rencontrée, de l'afficher et de continuer le programme.\n",
    "\n",
    "import math\n",
    "resolution = 1\n",
    "for i in range (-3,3+1, resolution) :\n",
    "    try :\n",
    "        print(math.sin(i)/i)\n",
    "    except ZeroDivisionError :\n",
    "        print(\"division par 0 impossible\")\n",
    "\n"
   ]
  },
  {
   "cell_type": "code",
   "execution_count": 16,
   "id": "36d940d9",
   "metadata": {},
   "outputs": [
    {
     "name": "stdout",
     "output_type": "stream",
     "text": [
      "(-10, -2015)\n",
      "(-9, -1472)\n",
      "(-8, -1037)\n",
      "(-7, -698)\n",
      "(-6, -443)\n",
      "(-5, -260)\n",
      "(-4, -137)\n",
      "(-3, -62)\n",
      "(-2, -23)\n",
      "(-1, -8)\n",
      "(0, -5)\n",
      "(1, -2)\n",
      "(2, 13)\n",
      "(3, 52)\n",
      "(4, 127)\n",
      "(5, 250)\n",
      "(6, 433)\n",
      "(7, 688)\n",
      "(8, 1027)\n",
      "(9, 1462)\n"
     ]
    }
   ],
   "source": [
    "# 2 : Écrire une fonction qui retourne f(x) = 2x3 + x − 5. \n",
    "#     Écrire une fonction poly avec quatre paramètres : fonction, borneInf, borneSup et nbPas. \n",
    "#     Cette procédure affiche les valeurs de fonction, de borneInf à borneSup, touslesnbPas. \n",
    "#     Elle doit respecter borne Inf < borne Sup.\n",
    "#     La fonction poly doit renvoyer un dictionnaire clé:valeur (clé = x, valeur = f(x)).\n",
    "\n",
    "def f(x) :\n",
    "    return  2 * (x**3) + x - 5\n",
    "\n",
    "def poly(fonction, borneInf, borneSup, nbPas) :\n",
    "    dico = {}\n",
    "    for x in range (borneInf, borneSup, nbPas) :\n",
    "        dico[x]=fonction(x)\n",
    "    return dico\n",
    "\n",
    "fonction = f\n",
    "borneInf = -10\n",
    "borneSup = 10\n",
    "nbPas = 1\n",
    "dico = poly(fonction, borneInf, borneSup, nbPas)\n",
    "\n",
    "for i in dico.items() :\n",
    "    print (i)"
   ]
  },
  {
   "cell_type": "code",
   "execution_count": 41,
   "id": "unknown-march",
   "metadata": {},
   "outputs": [
    {
     "name": "stdout",
     "output_type": "stream",
     "text": [
      "[17, 38, 10, 25, 72]\n",
      "[17, 38, 10, 25, 72, 12]\n",
      "0\n",
      "[17, 10, 25, 72, 12]\n",
      "10\n",
      "25\n",
      "10\n",
      "25\n",
      "72\n",
      "12\n",
      "12\n"
     ]
    }
   ],
   "source": [
    "# 3 : Définir la liste : liste =[17, 38, 10, 25, 72] Puis effectuez les actions suivantes :\n",
    "#       – affichez la liste \n",
    "#       – ajoutez l’élément 12 à la liste et affichez là \n",
    "#       – affichez l’indice de l’élément 17 \n",
    "#       – enlevez l’élément 38 et affichez la liste \n",
    "#       – affichez la sous-liste du 2e au 3e élément \n",
    "#       – affichez la sous-liste du début au 2e élément \n",
    "#       – affichez le dernier élément en utilisant un indexage négatif.\n",
    "\n",
    "liste = [17, 38, 10, 25, 72]\n",
    "print(liste)\n",
    "liste.append(12)\n",
    "print(liste)\n",
    "print(liste.index(17))\n",
    "liste.remove(38)\n",
    "print(liste)\n",
    "for i in range (1,3):\n",
    "    print(liste[i])\n",
    "for i in range(1, len(liste)) :\n",
    "    print(liste [i])\n",
    "print(liste[-1])"
   ]
  },
  {
   "cell_type": "code",
   "execution_count": null,
   "id": "2483599e",
   "metadata": {},
   "outputs": [],
   "source": [
    "# 4 : Écrire une fonction compterMots ayant un argument (une chaîne de caractères) \n",
    "#     et qui renvoie un dictionnaire qui contient la fréquence de tous les mots de la chaîne entrée.\n",
    "\n",
    "def compterMots(chaine)\n",
    "    "
   ]
  }
 ],
 "metadata": {
  "kernelspec": {
   "display_name": "Python 3",
   "language": "python",
   "name": "python3"
  },
  "language_info": {
   "codemirror_mode": {
    "name": "ipython",
    "version": 3
   },
   "file_extension": ".py",
   "mimetype": "text/x-python",
   "name": "python",
   "nbconvert_exporter": "python",
   "pygments_lexer": "ipython3",
   "version": "3.9.2"
  }
 },
 "nbformat": 4,
 "nbformat_minor": 5
}
