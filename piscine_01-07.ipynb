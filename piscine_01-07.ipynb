{
 "cells": [
  {
   "cell_type": "code",
   "execution_count": 7,
   "id": "guilty-treasury",
   "metadata": {},
   "outputs": [],
   "source": [
    "# 1 : Ecrire un programme qui affiche bonjour. \n",
    "#     Bis : mettre ce programme dans une fonction bonjour qui prend en paramètres le nombre \n",
    "#     de fois que la fonctionne affichera bonjour et tester cette fonction\n",
    "\n",
    "nb_bjr = 0\n",
    "\n",
    "def bonjour(nb_bjr):\n",
    "    for i in range(nb_bjr):\n",
    "        print('bonjour')\n",
    "\n",
    "bonjour(nb_bjr)\n"
   ]
  },
  {
   "cell_type": "code",
   "execution_count": 1,
   "id": "manufactured-thinking",
   "metadata": {},
   "outputs": [
    {
     "name": "stdout",
     "output_type": "stream",
     "text": [
      "entrez le rayon de la base du cône : a\n",
      "veuillez entrer un nombre\n",
      "entrez le rayon de la base du cône : 4\n",
      "son volume est de  16.755160819145562\n"
     ]
    }
   ],
   "source": [
    "# 2 : Écrire dans une cellule un programme qui demande à l'utilisateur de rentrer un rayon, \n",
    "#     puis , qui calcule le volume d'un cône droit.(Rappel : Vcone = 1/3 * pi * r^2) \n",
    "#     Bis : mettre ce programme dans une fonction volume_cone et tester cette fonction\n",
    "\n",
    "import math\n",
    "\n",
    "def volume_cone():\n",
    "    while True :\n",
    "        try : \n",
    "            r = float(input(\"entrez le rayon de la base du cône : \"))\n",
    "            break\n",
    "        except ValueError:\n",
    "            print(\"veuillez entrer un nombre\")\n",
    "            continue\n",
    "\n",
    "    Vcone = 1 / 3 * math.pi * r * r\n",
    "    print(\"son volume est de \", Vcone)\n",
    "    \n",
    "volume_cone()\n"
   ]
  },
  {
   "cell_type": "code",
   "execution_count": 13,
   "id": "crucial-submission",
   "metadata": {},
   "outputs": [
    {
     "name": "stdout",
     "output_type": "stream",
     "text": [
      "entrez votre poid en kg : 90\n",
      "entrez votre taille en m : 1.85\n",
      "Votre IMC est de  26.296566837107374\n"
     ]
    }
   ],
   "source": [
    "# 3 : Écrire dans une cellule un programme qui demande à l'utilisateur son poids et sa taille \n",
    "#     et qui calcule son IMC (trouver la formule sur internet). \n",
    "#     Bis : mettre ce programme dans une fonction imc et tester cette fonction\n",
    "\n",
    "while True :\n",
    "    try : \n",
    "        poids = float(input(\"entrez votre poid en kg : \"))\n",
    "        break\n",
    "    except ValueError:\n",
    "        print(\"veuillez entrer un nombre\")\n",
    "        continue\n",
    "        \n",
    "while True :\n",
    "    try : \n",
    "        taille = float(input(\"entrez votre taille en m : \"))\n",
    "        break\n",
    "    except ValueError:\n",
    "        print(\"veuillez entrer un nombre\")\n",
    "        continue\n",
    "\n",
    "taille = taille * taille        \n",
    "imc = poids / taille\n",
    "print(\"Votre IMC est de \", imc)\n"
   ]
  },
  {
   "cell_type": "code",
   "execution_count": 4,
   "id": "chronic-jordan",
   "metadata": {},
   "outputs": [
    {
     "name": "stdout",
     "output_type": "stream",
     "text": [
      "Veuillez entrer une vitesse en miles/h : 10\n",
      "10.0 miles/h est égal à 16.09 km/h\n"
     ]
    }
   ],
   "source": [
    "# 4 : Écrire une fonction qui convertit en mètres par seconde \n",
    "#     et en km/h une vitesse fournie en paramètres par l'utilisateur en miles/heure \n",
    "#    (1 mile = 1609 mètres). Ce résultat sera retourné par la fonction.\n",
    "\n",
    "def convertisseur(miles_h):\n",
    "    return miles_h * 1.609\n",
    " \n",
    "\n",
    "while True :\n",
    "    try :\n",
    "        miles_h = float(input(\"Veuillez entrer une vitesse en miles/h : \"))\n",
    "        break\n",
    "    except ValueError :\n",
    "        print(\"veuillez entrer un nombre\")\n",
    "        continue\n",
    "\n",
    "km_h = convertisseur(miles_h)\n",
    "print(miles_h, \"miles/h est égal à\", km_h, \"km/h\")\n",
    "\n"
   ]
  },
  {
   "cell_type": "code",
   "execution_count": 4,
   "id": "historical-softball",
   "metadata": {},
   "outputs": [
    {
     "name": "stdout",
     "output_type": "stream",
     "text": [
      "Veuillez entrer un entier positif : 448874\n",
      "448874  est un chiffre pair\n"
     ]
    }
   ],
   "source": [
    "# 5 : Écrire dans une cellule un programme qui demande à l'utilisateur de rentrer un \n",
    "#     entier n positif et qui affiche PAIR s'il est divisible par 2, IMPAIR sinon (penser au modulo). \n",
    "#     Bis : mettre ce programme dans une fonction pair et tester cette fonction\n",
    "\n",
    "def pair(n) :\n",
    "    if n % 2 == 1 :\n",
    "        print(n,\" est un chiffre impair\")\n",
    "    else :\n",
    "        print(n,\" est un chiffre pair\")\n",
    "        \n",
    "while True :\n",
    "    try :\n",
    "        n = int(input(\"Veuillez entrer un entier positif : \"))\n",
    "        break\n",
    "    except ValueError :\n",
    "        print(\"Merci de lire l'énoncé\")\n",
    "        \n",
    "pair(n)\n"
   ]
  },
  {
   "cell_type": "code",
   "execution_count": 1,
   "id": "generous-pittsburgh",
   "metadata": {},
   "outputs": [
    {
     "name": "stdout",
     "output_type": "stream",
     "text": [
      "0 x 8 = 5\n",
      "NUL !!  0 x 8 = 0\n",
      "8 x 7 = 56\n",
      "Exact !\n",
      "8 x 6 = 48\n",
      "Exact !\n",
      "5 x 1 = 8\n",
      "NUL !!  5 x 1 = 5\n",
      "1 x 6 = 6\n",
      "Exact !\n",
      "Vous avez  3  point sur 5\n",
      "Merci d'avoir joué\n"
     ]
    }
   ],
   "source": [
    "# 6 : Écrire un programme en python pour réviser ses tables de multiplication. \n",
    "#     Le programme tire au hasard deux entiers entre 0 et 10 et demande à l'utilisateur de donner leur produit. \n",
    "#     Si l'utilisateur répond juste, il gagne un point. Si il répond faux, il perd un point. \n",
    "#     On interrogera 5 fois l'utilisateur. \n",
    "#     Le programme affiche à la fin le score de l'utilisateur.\n",
    "\n",
    "import random\n",
    "\n",
    "point = 0\n",
    "\n",
    "def demande(a,b, point) :\n",
    "    while True :\n",
    "        try :\n",
    "            #phrase = [a,\" x \", b, \" = \"]\n",
    "            phrase = str(a) + \" x \" + str(b) + \" = \"\n",
    "            result = int(input(phrase))\n",
    "            break\n",
    "        except ValueError :\n",
    "            print(\"Veuillez entrer un entier\")\n",
    "    if result == a * b :\n",
    "        point += 1\n",
    "        print(\"Exact !\")\n",
    "    else :\n",
    "        print(\"NUL !! \", a, \"x\", b, \"=\", a * b)\n",
    "    return point\n",
    "\n",
    "\n",
    "for i in range (0,5) :\n",
    "    a = random.randrange(0,10)\n",
    "    b = random.randrange(0,10)\n",
    "    point = demande(a, b, point)\n",
    "\n",
    "    \n",
    "if point == 0 or 1 : ## \"0 point\" c'est au singulier ? :D\n",
    "    print(\"Vous avez\", point, \"point sur 5\")\n",
    "else :\n",
    "    print(\"Vous avez\", points, \"point sur 5\")\n",
    "print(\"Merci d'avoir joué\") \n",
    "\n",
    "             "
   ]
  },
  {
   "cell_type": "code",
   "execution_count": 6,
   "id": "sporting-editing",
   "metadata": {},
   "outputs": [
    {
     "name": "stdout",
     "output_type": "stream",
     "text": [
      "essais 1 sur 10\n",
      "entrez un chiffre : 4\n",
      "Trop petit\n",
      "essais 2 sur 10\n",
      "entrez un chiffre : 4\n",
      "Trop petit\n",
      "essais 3 sur 10\n",
      "entrez un chiffre : 4\n",
      "Trop petit\n",
      "essais 4 sur 10\n",
      "entrez un chiffre : 4\n",
      "Trop petit\n",
      "essais 5 sur 10\n",
      "entrez un chiffre : 4\n",
      "Trop petit\n",
      "essais 6 sur 10\n",
      "entrez un chiffre : 4\n",
      "Trop petit\n",
      "essais 7 sur 10\n",
      "entrez un chiffre : 4\n",
      "Trop petit\n",
      "essais 8 sur 10\n",
      "entrez un chiffre : 4\n",
      "Trop petit\n",
      "essais 9 sur 10\n",
      "entrez un chiffre : 4\n",
      "Trop petit\n",
      "essais 10 sur 10\n",
      "entrez un chiffre : 4\n",
      "Dommage, c'était :  5\n"
     ]
    }
   ],
   "source": [
    "# 7 : L'ordinateur tire un nombre entier au hasard entre 0 et 100. \n",
    "#     L'utilisateur doit le trouver et pour cela propose des valeurs. \n",
    "#     L'ordinateur indique pour chaque valeur proposée si la valeur est trop petite, \n",
    "#       trop grande ou s'il a trouvé. \n",
    "#     a) Écrire un programme en Python pour jouer à ce jeu. \n",
    "#     b) Modifier le programme pour qu'il s'arrête si l'utilisateur n'a pas trouvé au bout de 10 coups. \n",
    "#     c) Mettre ce programme dans une fonction plus_ou_moins qui prendra en paramètres :\n",
    "#          -le nombre min et max de la plage de tirage du nombre au hasard\n",
    "#          -le nombre de coups maximum\n",
    "\n",
    "\n",
    "import random\n",
    "\n",
    "def demander_nombre() :    \n",
    "    while True :\n",
    "        try :\n",
    "            reponse = int(input(\"entrez un chiffre : \"))\n",
    "            break\n",
    "        except ValueError :\n",
    "            quit()\n",
    "            exit()\n",
    "            print (\"Merci d'entrer un entier entre 0 et 100\")\n",
    "    return reponse\n",
    "\n",
    "\n",
    "nombre = random.randint(0,100)\n",
    "compteur = 1\n",
    "print(\"essais\", compteur, \"sur 10\")\n",
    "reponse = demander_nombre()\n",
    "\n",
    "while reponse != nombre and compteur < 10 :\n",
    "    if nombre > reponse :\n",
    "        print(\"Trop petit\")\n",
    "    elif nombre < reponse :\n",
    "        print(\"Trop grand\")\n",
    "    compteur +=1\n",
    "    print(\"essais\", compteur, \"sur 10\")\n",
    "    reponse = demander_nombre()\n",
    "\n",
    "if reponse == nombre :\n",
    "    print(\"Bravo !!\")\n",
    "else : print(\"Dommage, c'était : \", nombre)\n"
   ]
  }
 ],
 "metadata": {
  "kernelspec": {
   "display_name": "Python 3",
   "language": "python",
   "name": "python3"
  },
  "language_info": {
   "codemirror_mode": {
    "name": "ipython",
    "version": 3
   },
   "file_extension": ".py",
   "mimetype": "text/x-python",
   "name": "python",
   "nbconvert_exporter": "python",
   "pygments_lexer": "ipython3",
   "version": "3.9.2"
  }
 },
 "nbformat": 4,
 "nbformat_minor": 5
}
